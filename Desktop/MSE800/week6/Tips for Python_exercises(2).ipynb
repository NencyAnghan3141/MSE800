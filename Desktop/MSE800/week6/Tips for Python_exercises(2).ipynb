{
 "cells": [
  {
   "cell_type": "code",
   "execution_count": null,
   "id": "07bc372e-0bba-42aa-b92f-1821f664976e",
   "metadata": {},
   "outputs": [
    {
     "name": "stdout",
     "output_type": "stream",
     "text": [
      "[{'name': 'Alice', 'age': 28}, {'name': 'Charlie', 'age': 30}]\n"
     ]
    }
   ],
   "source": [
    "# extract information with age greater than 25 from the following list of dictionaries\n",
    "data = [{\"name\": \"Alice\", \"age\": 28}, {\"name\": \"Bob\", \"age\": 24}, {\"name\": \"Charlie\", \"age\": 30}]\n",
    "\n",
    "\n",
    "# Filter entries with age > 25\n",
    "filtered_data = [person for person in data \n",
    "                 if person['age'] > 25]\n",
    "\n",
    "print(filtered_data)\n"
   ]
  },
  {
   "cell_type": "code",
   "execution_count": 18,
   "id": "4d7663b4-e991-43a8-9f44-a37c1ad87b50",
   "metadata": {},
   "outputs": [
    {
     "name": "stdout",
     "output_type": "stream",
     "text": [
      "shape of matrix: 3x3\n",
      "[1, 2, 3, 4, 5, 6, 7, 8, 9]\n"
     ]
    }
   ],
   "source": [
    "# use list comprehension to flatten the matrix\n",
    "matrix = [[1, 2, 3], [4, 5, 6], [7, 8, 9]]\n",
    "\n",
    "flattened = [element for row in matrix for element in row]\n",
    "rows = len(matrix)\n",
    "cols = len(matrix[0]) if rows > 0 else 0\n",
    "print(\"shape of matrix: {}x{}\".format(rows, cols))\n",
    "print(flattened)\n"
   ]
  },
  {
   "cell_type": "code",
   "execution_count": 33,
   "id": "3c708235",
   "metadata": {},
   "outputs": [
    {
     "name": "stdout",
     "output_type": "stream",
     "text": [
      "[1 2 3 4 5 6 7 8 9]\n",
      "shape of matrix: 3x3\n"
     ]
    }
   ],
   "source": [
    "import numpy as np\n",
    "\n",
    "matrix = [[1, 2, 3], [4, 5, 6], [7, 8, 9]]\n",
    "\n",
    "np_matrix = np.array(matrix)  # Convert list to NumPy array\n",
    "\n",
    "res  = np_matrix.flatten()\n",
    "print(res)\n",
    "\n",
    "rows = len(matrix)\n",
    "cols = len(matrix[0]) if rows > 0 else 0\n",
    "print(\"shape of matrix: {}x{}\".format(rows, cols))\n"
   ]
  },
  {
   "cell_type": "code",
   "execution_count": null,
   "id": "ddba37e4",
   "metadata": {},
   "outputs": [],
   "source": []
  },
  {
   "cell_type": "code",
   "execution_count": 10,
   "id": "163bdfe0-c2c9-400c-b221-432f902aea57",
   "metadata": {},
   "outputs": [
    {
     "name": "stdout",
     "output_type": "stream",
     "text": [
      "[93, 97, 83, 70, 60, 99]\n"
     ]
    }
   ],
   "source": [
    "# use enumerate() for looping to add 5 extra point to each grade in the list, the 5th one add 10 \n",
    "grades = [88, 92, 78, 65, 50, 94]\n",
    "\n",
    "for pos, grade in enumerate(grades, start=1):   # start=1 → 1‑based positions\n",
    "    if pos == 5:                                # 5‑th grade\n",
    "        grades[pos - 1] = grade + 10\n",
    "    else:                                       # all other grades\n",
    "        grades[pos - 1] = grade + 5\n",
    "\n",
    "print(grades)"
   ]
  },
  {
   "cell_type": "code",
   "execution_count": 4,
   "id": "cd080518-e3da-4460-806a-9cff1d0bd3d9",
   "metadata": {},
   "outputs": [
    {
     "name": "stdout",
     "output_type": "stream",
     "text": [
      "[93, 97, 83, 70, 60, 99]\n"
     ]
    }
   ],
   "source": [
    "grades = [88, 92, 78, 65, 50, 94]\n",
    "\n",
    "for pos, grade in enumerate(grades, start=1):   # start=1 → 1‑based positions\n",
    "    if pos == 5:                                # 5‑th grade\n",
    "        grades[pos - 1] = grade + 10\n",
    "    else:                                       # all other grades\n",
    "        grades[pos - 1] = grade + 5\n",
    "\n",
    "print(grades)\n"
   ]
  },
  {
   "cell_type": "code",
   "execution_count": null,
   "id": "d069230f-2c5d-4c16-bbf9-576ffa3f7031",
   "metadata": {},
   "outputs": [],
   "source": [
    "# filter out elements depend on their index: \n",
    "# use list comprehension and enumerate() to get elements with even index\n",
    "data = [100, 200, 300, 400, 500]\n"
   ]
  },
  {
   "cell_type": "code",
   "execution_count": 5,
   "id": "19838113-b7ba-4901-a967-15542a582722",
   "metadata": {},
   "outputs": [
    {
     "name": "stdout",
     "output_type": "stream",
     "text": [
      "[100, 300, 500]\n"
     ]
    }
   ],
   "source": [
    "data = [100, 200, 300, 400, 500]\n",
    "\n",
    "even_index_elements = [value for index, value in enumerate(data) if index % 2 == 0]\n",
    "\n",
    "print(even_index_elements)\n"
   ]
  },
  {
   "cell_type": "code",
   "execution_count": 38,
   "id": "ebdc579d-5829-4204-9814-253753ea6766",
   "metadata": {},
   "outputs": [],
   "source": [
    "# create a dictionary from lists using zip()\n",
    "keys = ['name', 'age', 'grade']\n",
    "values = ['Alice', 25, 'A']"
   ]
  },
  {
   "cell_type": "code",
   "execution_count": 11,
   "id": "da23c662-0f96-4cd5-957d-736da08cc28e",
   "metadata": {},
   "outputs": [
    {
     "name": "stdout",
     "output_type": "stream",
     "text": [
      "{'name': 'Alice', 'age': 25, 'grade': 'A'}\n"
     ]
    }
   ],
   "source": [
    "keys = ['name', 'age', 'grade']\n",
    "values = ['Alice', 25, 'A']\n",
    "\n",
    "student_dict = dict(zip(keys, values))\n",
    "\n",
    "print(student_dict)\n"
   ]
  },
  {
   "cell_type": "code",
   "execution_count": 41,
   "id": "96eabba4-1b73-40dd-80ad-de0f45bb4c81",
   "metadata": {},
   "outputs": [],
   "source": [
    "# sort the dictionary based on the ages using lambda\n",
    "students = [\n",
    "    {'name': \"John\", 'grade': \"A\", 'age': 20}, \n",
    "    {'name': \"Jane\", 'grade': \"B\", 'age': 21}, \n",
    "    {'name': \"Joss\", 'grade': \"A+\", 'age': 19}, \n",
    "    {'name': \"Jack\", 'grade': \"A-\", 'age': 16}, \n",
    "    {'name': \"Dave\", 'grade': \"C\", 'age': 25}, \n",
    "]"
   ]
  },
  {
   "cell_type": "code",
   "execution_count": 7,
   "id": "b87aa8ac-d3c2-4897-8a9e-4eea2a63fce7",
   "metadata": {},
   "outputs": [
    {
     "name": "stdout",
     "output_type": "stream",
     "text": [
      "[{'name': 'Jack', 'grade': 'A-', 'age': 16}, {'name': 'Joss', 'grade': 'A+', 'age': 19}, {'name': 'John', 'grade': 'A', 'age': 20}, {'name': 'Jane', 'grade': 'B', 'age': 21}, {'name': 'Dave', 'grade': 'C', 'age': 25}]\n"
     ]
    }
   ],
   "source": [
    "students = [\n",
    "    {'name': \"John\", 'grade': \"A\", 'age': 20}, \n",
    "    {'name': \"Jane\", 'grade': \"B\", 'age': 21}, \n",
    "    {'name': \"Joss\", 'grade': \"A+\", 'age': 19}, \n",
    "    {'name': \"Jack\", 'grade': \"A-\", 'age': 16}, \n",
    "    {'name': \"Dave\", 'grade': \"C\", 'age': 25}, \n",
    "]\n",
    "\n",
    "# Sort by age (ascending)\n",
    "sorted_students = sorted(students, key=lambda student: student['age'])\n",
    "\n",
    "print(sorted_students)\n"
   ]
  },
  {
   "cell_type": "code",
   "execution_count": null,
   "id": "5fb3152c-ae30-4a0b-bd60-df57a7ee1d8f",
   "metadata": {},
   "outputs": [],
   "source": []
  },
  {
   "cell_type": "code",
   "execution_count": 43,
   "id": "1332bf19-f03a-4c5b-ac2f-c1fa58c54767",
   "metadata": {},
   "outputs": [],
   "source": [
    "# Sort by age, then by salary if ages are the same\n",
    "# use lambda\n",
    "employees = [\n",
    "    {'name': 'Alice', 'age': 30, 'salary': 80000},\n",
    "    {'name': 'Bob', 'age': 25, 'salary': 50000},\n",
    "    {'name': 'Charlie', 'age': 35, 'salary': 120000},\n",
    "]"
   ]
  },
  {
   "cell_type": "code",
   "execution_count": 14,
   "id": "6e99f536-cdd0-4e60-b846-7bb05c41dd6a",
   "metadata": {},
   "outputs": [
    {
     "name": "stdout",
     "output_type": "stream",
     "text": [
      "[{'name': 'Bob', 'age': 25, 'salary': 50000}, {'name': 'Alice', 'age': 30, 'salary': 80000}, {'name': 'Charlie', 'age': 35, 'salary': 120000}]\n"
     ]
    }
   ],
   "source": [
    "employees = [\n",
    "    {'name': 'Alice', 'age': 30, 'salary': 80000},\n",
    "    {'name': 'Bob', 'age': 25, 'salary': 50000},\n",
    "    {'name': 'Charlie', 'age': 35, 'salary': 120000},\n",
    "]\n",
    "\n",
    "sorted_employees = sorted(employees, key=lambda e: (e['age'], e['salary']))\n",
    "\n",
    "print(sorted_employees)\n"
   ]
  },
  {
   "cell_type": "code",
   "execution_count": null,
   "id": "dac9b074-5e9a-41f3-bee9-b6d9857e798c",
   "metadata": {},
   "outputs": [],
   "source": []
  },
  {
   "cell_type": "code",
   "execution_count": 45,
   "id": "ad414ac1-a032-4d8e-a8ae-0d8180ffbeb6",
   "metadata": {},
   "outputs": [],
   "source": [
    "# Generators are highly useful in data-heavy applications:\n",
    "\n",
    "# Reading Large Files: Use generators to read large files line by line without loading the entire file into memory.\n",
    "# Data Streaming: Stream data entries for real-time data processing.\n",
    "# Large Calculations: Break down massive calculations into smaller, more manageable chunks."
   ]
  },
  {
   "cell_type": "code",
   "execution_count": null,
   "id": "ed9e15c4-fb82-487b-a20c-66dd903b925c",
   "metadata": {},
   "outputs": [],
   "source": []
  }
 ],
 "metadata": {
  "kernelspec": {
   "display_name": "Python 3",
   "language": "python",
   "name": "python3"
  },
  "language_info": {
   "codemirror_mode": {
    "name": "ipython",
    "version": 3
   },
   "file_extension": ".py",
   "mimetype": "text/x-python",
   "name": "python",
   "nbconvert_exporter": "python",
   "pygments_lexer": "ipython3",
   "version": "3.9.6"
  }
 },
 "nbformat": 4,
 "nbformat_minor": 5
}
